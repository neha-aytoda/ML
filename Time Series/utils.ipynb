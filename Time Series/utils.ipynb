{
 "cells": [
  {
   "cell_type": "code",
   "execution_count": 1,
   "id": "f80002e7-81db-438c-a4d9-961fc5613a30",
   "metadata": {},
   "outputs": [],
   "source": [
    "from statsmodels.graphics.tsaplots import plot_acf, plot_pacf\n",
    "from statsmodels.tsa.stattools import adfuller\n",
    "from statsmodels.tsa.seasonal import seasonal_decompose\n",
    "import matplotlib.pyplot as plt\n",
    "import pandas as pd\n",
    "import numpy as np\n",
    "from sklearn.metrics import mean_absolute_error\n",
    "from sklearn.metrics import mean_absolute_percentage_error\n",
    "from sklearn.metrics import mean_squared_error\n",
    "from sklearn.metrics import r2_score\n",
    "from math import sqrt"
   ]
  },
  {
   "cell_type": "code",
   "execution_count": 2,
   "id": "7f994de3-0980-470f-bc5e-2c5379d4932b",
   "metadata": {},
   "outputs": [],
   "source": [
    "def evaluate(y_true, y_pred):\n",
    "    dict = {\n",
    "        'MAE': mean_absolute_error(y_true, y_pred),\n",
    "        'MAPE':mean_absolute_percentage_error(y_true, y_pred),\n",
    "        'MSE': mean_squared_error(y_true, y_pred),\n",
    "        'RMSE': sqrt(mean_squared_error(y_true, y_pred)),\n",
    "        'R2': r2_score(y_true, y_pred)\n",
    "        }\n",
    "    return dict"
   ]
  },
  {
   "cell_type": "code",
   "execution_count": 3,
   "id": "f29ed6f2-7db4-4352-adc5-fbcf23a4f751",
   "metadata": {},
   "outputs": [],
   "source": [
    "def adfuller_test(records):\n",
    "\n",
    "    '''\n",
    "    Ho: It is not stationary\n",
    "    H1: It is stationary\n",
    "    '''\n",
    "    result=adfuller(records)\n",
    "    labels=['ADF Test Statistic','p-value','#Lags Used','Number of Observations Used']\n",
    "    for label,value in zip(labels,result):\n",
    "        print(label+\" : \"+str(value))\n",
    "    if result[1]<=0.05:\n",
    "        print(\"Null hypothesis is rejected. Series is stationary.\")\n",
    "    else:\n",
    "        print(\"Null hypothesis is accepted. Series in not stationary.\")"
   ]
  },
  {
   "cell_type": "code",
   "execution_count": null,
   "id": "b23432db-e6e7-4f63-ad93-c01a52077808",
   "metadata": {},
   "outputs": [],
   "source": []
  }
 ],
 "metadata": {
  "kernelspec": {
   "display_name": "Python 3 (ipykernel)",
   "language": "python",
   "name": "python3"
  },
  "language_info": {
   "codemirror_mode": {
    "name": "ipython",
    "version": 3
   },
   "file_extension": ".py",
   "mimetype": "text/x-python",
   "name": "python",
   "nbconvert_exporter": "python",
   "pygments_lexer": "ipython3",
   "version": "3.9.7"
  }
 },
 "nbformat": 4,
 "nbformat_minor": 5
}
